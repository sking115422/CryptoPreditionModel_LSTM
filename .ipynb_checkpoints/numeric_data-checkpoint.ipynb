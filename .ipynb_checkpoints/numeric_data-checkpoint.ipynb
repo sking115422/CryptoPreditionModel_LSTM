{
 "cells": [
  {
   "cell_type": "code",
   "execution_count": 1,
   "id": "d5ad5003-5334-466c-898c-66ee930874ce",
   "metadata": {},
   "outputs": [],
   "source": [
    "import pandas_datareader as web\n",
    "import math\n",
    "import numpy as np\n",
    "import pandas as pd \n",
    "from sklearn.preprocessing import MinMaxScaler\n"
   ]
  },
  {
   "cell_type": "code",
   "execution_count": 14,
   "id": "a759c59d-609a-4c75-b47b-78325fdf8ca9",
   "metadata": {},
   "outputs": [],
   "source": [
    "BTC_df = web.DataReader('BTC-USD', data_source='yahoo', start='2015-01-01', end='2020-01-01')\n",
    "\n",
    "ETH_df = web.DataReader('ETH-USD', data_source='yahoo', start='2015-01-01', end='2020-01-01')\n",
    "\n",
    "XRP_df = web.DataReader('XRP-USD', data_source='yahoo', start='2015-01-01', end='2020-01-01')\n",
    "\n",
    "tmp_list = [BTC_df, ETH_df, XRP_df]"
   ]
  },
  {
   "cell_type": "code",
   "execution_count": 35,
   "id": "48130f12-e6fa-4450-b537-d807f905d64b",
   "metadata": {},
   "outputs": [
    {
     "ename": "SyntaxError",
     "evalue": "invalid syntax (<ipython-input-35-332a13846aa4>, line 65)",
     "output_type": "error",
     "traceback": [
      "\u001b[0;36m  File \u001b[0;32m\"<ipython-input-35-332a13846aa4>\"\u001b[0;36m, line \u001b[0;32m65\u001b[0m\n\u001b[0;31m    for i in range(0, len(each['Date'].tolist()) - 1)\u001b[0m\n\u001b[0m                                                     ^\u001b[0m\n\u001b[0;31mSyntaxError\u001b[0m\u001b[0;31m:\u001b[0m invalid syntax\n"
     ]
    }
   ],
   "source": [
    "data_list = []\n",
    "\n",
    "for each in tmp_list:\n",
    "    each = each.drop(columns=['High', 'Low', 'Adj Close'])\n",
    "    each['DeltaPrice'] = each['Close'] - each['Open']\n",
    "    \n",
    "    maxDeltaPrice = max([abs(each['DeltaPrice'].max()), abs(each['DeltaPrice'].min())])\n",
    "    \n",
    "    each['DeltaPriceScaled'] = each['DeltaPrice']/maxDeltaPrice\n",
    "    \n",
    "    closePriceList = each['Close'].tolist()\n",
    "    \n",
    "    std_dev_14 = []\n",
    "    for i in range(0, len(closePriceList)):\n",
    "        if (0 <= i <= 13):\n",
    "            std_dev_14.append(None)\n",
    "            continue\n",
    "        temp_list = []\n",
    "        for j in range(i - 14, i):\n",
    "            temp_list.append(closePriceList[j])\n",
    "            \n",
    "        mean = np.mean(temp_list)\n",
    "        std_dev = np.std(temp_list)\n",
    "        obs_val = closePriceList[i]\n",
    "        z = (obs_val - mean)/std_dev\n",
    "        \n",
    "        std_dev_14.append(z)\n",
    "            \n",
    "    each['Zscore'] = std_dev_14 \n",
    "    \n",
    "    \n",
    "    sma100 = []\n",
    "    for i in range(0, len(closePriceList)):\n",
    "        if (0 <= i <= 99):\n",
    "            sma100.append(None)\n",
    "            continue\n",
    "        temp_list = []\n",
    "        for j in range(i - 100, i):\n",
    "            temp_list.append(closePriceList[j])\n",
    "            \n",
    "        mean = np.mean(temp_list)\n",
    "        \n",
    "        sma100.append(mean)\n",
    "            \n",
    "    each['SMA100'] = sma100\n",
    "    \n",
    "    sma200 = []\n",
    "    for i in range(0, len(closePriceList)):\n",
    "        if (0 <= i <= 199):\n",
    "            sma200.append(None)\n",
    "            continue\n",
    "        temp_list = []\n",
    "        for j in range(i - 200, i):\n",
    "            temp_list.append(closePriceList[j])\n",
    "            \n",
    "        mean = np.mean(temp_list)\n",
    "        \n",
    "        sma200.append(mean)\n",
    "            \n",
    "    each['SMA200'] = sma200\n",
    "    \n",
    "    each.drop(columns=['Open', 'Close', 'DeltaPrice'])\n",
    "    \n",
    "    id_list = []\n",
    "    for i in range(0, (len(each['Date'].tolist()) - 1)\n",
    "        id_list.append(i)\n",
    "    \n",
    "    each['id'] = id_list\n",
    "    \n",
    "    each.set_index('id', drop=False, inplace=True)\n",
    "#     each.drop(range(0,199))\n",
    "    \n",
    "    data_list.append(each)\n",
    "    \n",
    "    print (each)\n",
    "    \n",
    "    \n",
    "    "
   ]
  },
  {
   "cell_type": "code",
   "execution_count": 32,
   "id": "caffa7f0-ee31-4f8f-9430-6e1242eac83a",
   "metadata": {},
   "outputs": [
    {
     "ename": "IndexError",
     "evalue": "list index out of range",
     "output_type": "error",
     "traceback": [
      "\u001b[0;31m---------------------------------------------------------------------------\u001b[0m",
      "\u001b[0;31mIndexError\u001b[0m                                Traceback (most recent call last)",
      "\u001b[0;32m<ipython-input-32-229c3c1788d9>\u001b[0m in \u001b[0;36m<module>\u001b[0;34m\u001b[0m\n\u001b[0;32m----> 1\u001b[0;31m \u001b[0mBTC_full_df\u001b[0m \u001b[0;34m=\u001b[0m \u001b[0mdata_list\u001b[0m \u001b[0;34m[\u001b[0m\u001b[0;36m0\u001b[0m\u001b[0;34m]\u001b[0m\u001b[0;34m\u001b[0m\u001b[0;34m\u001b[0m\u001b[0m\n\u001b[0m\u001b[1;32m      2\u001b[0m \u001b[0;34m\u001b[0m\u001b[0m\n\u001b[1;32m      3\u001b[0m \u001b[0mETH_full_df\u001b[0m \u001b[0;34m=\u001b[0m \u001b[0mdata_list\u001b[0m \u001b[0;34m[\u001b[0m\u001b[0;36m1\u001b[0m\u001b[0;34m]\u001b[0m\u001b[0;34m\u001b[0m\u001b[0;34m\u001b[0m\u001b[0m\n\u001b[1;32m      4\u001b[0m \u001b[0;34m\u001b[0m\u001b[0m\n\u001b[1;32m      5\u001b[0m \u001b[0mXRP_full_df\u001b[0m \u001b[0;34m=\u001b[0m \u001b[0mdata_list\u001b[0m \u001b[0;34m[\u001b[0m\u001b[0;36m2\u001b[0m\u001b[0;34m]\u001b[0m\u001b[0;34m\u001b[0m\u001b[0;34m\u001b[0m\u001b[0m\n",
      "\u001b[0;31mIndexError\u001b[0m: list index out of range"
     ]
    }
   ],
   "source": [
    "BTC_full_df = data_list [0]\n",
    "\n",
    "ETH_full_df = data_list [1]\n",
    "\n",
    "XRP_full_df = data_list [2]\n",
    "\n",
    "BTC_full_df"
   ]
  },
  {
   "cell_type": "code",
   "execution_count": null,
   "id": "03ef361d-5a81-4426-80e8-eb2449f6143f",
   "metadata": {},
   "outputs": [],
   "source": []
  }
 ],
 "metadata": {
  "kernelspec": {
   "display_name": "venv",
   "language": "python",
   "name": "venv"
  },
  "language_info": {
   "codemirror_mode": {
    "name": "ipython",
    "version": 3
   },
   "file_extension": ".py",
   "mimetype": "text/x-python",
   "name": "python",
   "nbconvert_exporter": "python",
   "pygments_lexer": "ipython3",
   "version": "3.8.8"
  }
 },
 "nbformat": 4,
 "nbformat_minor": 5
}
