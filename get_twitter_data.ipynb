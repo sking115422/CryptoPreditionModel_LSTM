{
 "cells": [
  {
   "cell_type": "code",
   "execution_count": 5,
   "id": "ad28a374",
   "metadata": {},
   "outputs": [],
   "source": [
    "import twint as t\n",
    "\n",
    "#To make twint run inside juypter notebook\n",
    "import nest_asyncio \n",
    "\n",
    "nest_asyncio.apply()"
   ]
  },
  {
   "cell_type": "code",
   "execution_count": 6,
   "id": "96298c50",
   "metadata": {},
   "outputs": [],
   "source": [
    "since=\"2020-01-01\"\n",
    "until=\"2020-02-01\""
   ]
  },
  {
   "cell_type": "code",
   "execution_count": 7,
   "id": "07a696c9",
   "metadata": {},
   "outputs": [
    {
     "name": "stdout",
     "output_type": "stream",
     "text": [
      "1222360090197364737 2020-01-28 22:25:30 -0500 <dabaniwal1973> Action supreme Court &amp; Ramnath covid president of India  https://t.co/fKyTZOAKwE\n",
      "1216374257028161536 2020-01-12 09:59:56 -0500 <Capital_EKS> @chamington1 1. Raven Guy  2. Cham 3. 4 / 10 4. Ye, also I like you funky EPs, EP2 Song 6 got a laugh out of me. 5. Covid Pal 6. Nope 7. 👏\n",
      "[!] No more data! Scraping will stop now.\n",
      "found 0 deleted tweets in this search.\n"
     ]
    }
   ],
   "source": [
    "\n",
    "# Configure\n",
    "c = t.Config()\n",
    "c.Search = \"covid\"\n",
    "c.Limit = 1000\n",
    "c.Since=since\n",
    "c.Until=until\n",
    "c.Lang = \"en\"\n",
    "c.Store_json = True\n",
    "c.Output = \"data\\\\twitter\\\\test.json\"\n",
    "# Run\n",
    "t.run.Search(c)"
   ]
  },
  {
   "cell_type": "code",
   "execution_count": null,
   "id": "487002ef-2497-4220-b356-3fa243ba2ba0",
   "metadata": {},
   "outputs": [],
   "source": []
  }
 ],
 "metadata": {
  "interpreter": {
   "hash": "4710bfcdbde1e48fe658799ca8c8f996a7c8879356efb4edf2e8b9b61ce4d18c"
  },
  "kernelspec": {
   "display_name": "Python 3 (ipykernel)",
   "language": "python",
   "name": "python3"
  },
  "language_info": {
   "codemirror_mode": {
    "name": "ipython",
    "version": 3
   },
   "file_extension": ".py",
   "mimetype": "text/x-python",
   "name": "python",
   "nbconvert_exporter": "python",
   "pygments_lexer": "ipython3",
   "version": "3.8.11"
  }
 },
 "nbformat": 4,
 "nbformat_minor": 5
}
