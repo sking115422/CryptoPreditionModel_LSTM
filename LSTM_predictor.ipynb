{
 "cells": [
  {
   "cell_type": "code",
   "execution_count": 2,
   "metadata": {},
   "outputs": [],
   "source": [
    "\n",
    "import numpy as np\n",
    "import pandas as pd\n",
    "import matplotlib.pyplot as plt \n"
   ]
  },
  {
   "cell_type": "code",
   "execution_count": 3,
   "metadata": {},
   "outputs": [
    {
     "data": {
      "text/html": [
       "<div>\n",
       "<style scoped>\n",
       "    .dataframe tbody tr th:only-of-type {\n",
       "        vertical-align: middle;\n",
       "    }\n",
       "\n",
       "    .dataframe tbody tr th {\n",
       "        vertical-align: top;\n",
       "    }\n",
       "\n",
       "    .dataframe thead th {\n",
       "        text-align: right;\n",
       "    }\n",
       "</style>\n",
       "<table border=\"1\" class=\"dataframe\">\n",
       "  <thead>\n",
       "    <tr style=\"text-align: right;\">\n",
       "      <th></th>\n",
       "      <th>id</th>\n",
       "      <th>Volume</th>\n",
       "      <th>DeltaPriceScaled</th>\n",
       "      <th>Zscore</th>\n",
       "      <th>SMA100</th>\n",
       "      <th>SMA200</th>\n",
       "      <th>Date</th>\n",
       "    </tr>\n",
       "  </thead>\n",
       "  <tbody>\n",
       "    <tr>\n",
       "      <th>0</th>\n",
       "      <td>200</td>\n",
       "      <td>22711400</td>\n",
       "      <td>0.001509</td>\n",
       "      <td>-0.180510</td>\n",
       "      <td>242.904870</td>\n",
       "      <td>247.008470</td>\n",
       "      <td>2015-07-20</td>\n",
       "    </tr>\n",
       "    <tr>\n",
       "      <th>1</th>\n",
       "      <td>201</td>\n",
       "      <td>22930700</td>\n",
       "      <td>-0.000839</td>\n",
       "      <td>-0.528097</td>\n",
       "      <td>243.329160</td>\n",
       "      <td>246.832130</td>\n",
       "      <td>2015-07-21</td>\n",
       "    </tr>\n",
       "    <tr>\n",
       "      <th>2</th>\n",
       "      <td>202</td>\n",
       "      <td>19389800</td>\n",
       "      <td>0.000431</td>\n",
       "      <td>-0.496788</td>\n",
       "      <td>243.725960</td>\n",
       "      <td>246.636135</td>\n",
       "      <td>2015-07-22</td>\n",
       "    </tr>\n",
       "    <tr>\n",
       "      <th>3</th>\n",
       "      <td>203</td>\n",
       "      <td>18531300</td>\n",
       "      <td>-0.000356</td>\n",
       "      <td>-0.674569</td>\n",
       "      <td>244.252309</td>\n",
       "      <td>246.616835</td>\n",
       "      <td>2015-07-23</td>\n",
       "    </tr>\n",
       "    <tr>\n",
       "      <th>4</th>\n",
       "      <td>204</td>\n",
       "      <td>37199400</td>\n",
       "      <td>0.003378</td>\n",
       "      <td>0.494926</td>\n",
       "      <td>244.821210</td>\n",
       "      <td>246.676105</td>\n",
       "      <td>2015-07-24</td>\n",
       "    </tr>\n",
       "  </tbody>\n",
       "</table>\n",
       "</div>"
      ],
      "text/plain": [
       "    id    Volume  DeltaPriceScaled    Zscore      SMA100      SMA200  \\\n",
       "0  200  22711400          0.001509 -0.180510  242.904870  247.008470   \n",
       "1  201  22930700         -0.000839 -0.528097  243.329160  246.832130   \n",
       "2  202  19389800          0.000431 -0.496788  243.725960  246.636135   \n",
       "3  203  18531300         -0.000356 -0.674569  244.252309  246.616835   \n",
       "4  204  37199400          0.003378  0.494926  244.821210  246.676105   \n",
       "\n",
       "         Date  \n",
       "0  2015-07-20  \n",
       "1  2015-07-21  \n",
       "2  2015-07-22  \n",
       "3  2015-07-23  \n",
       "4  2015-07-24  "
      ]
     },
     "execution_count": 3,
     "metadata": {},
     "output_type": "execute_result"
    }
   ],
   "source": [
    "BTC_data = pd.read_csv(\"data/time_series/BTC/2015-01-01_2020-01-01.csv\", date_parser = True)\n",
    "ETH_data = pd.read_csv(\"data/time_series/ETH/2015-01-01_2020-01-01.csv\", date_parser = True)\n",
    "XRP_data = pd.read_csv(\"data/time_series/XRP/2015-01-01_2020-01-01.csv\", date_parser = True)\n",
    "\n",
    "BTC_data.head()"
   ]
  }
 ],
 "metadata": {
  "interpreter": {
   "hash": "37d1753cadc57aeb5991aad459eaf5b5ae3e4859e361f58f626312b37b3006db"
  },
  "kernelspec": {
   "display_name": "Python 3.8.10 64-bit ('venv': venv)",
   "language": "python",
   "name": "python3"
  },
  "language_info": {
   "codemirror_mode": {
    "name": "ipython",
    "version": 3
   },
   "file_extension": ".py",
   "mimetype": "text/x-python",
   "name": "python",
   "nbconvert_exporter": "python",
   "pygments_lexer": "ipython3",
   "version": "3.8.10"
  },
  "orig_nbformat": 4
 },
 "nbformat": 4,
 "nbformat_minor": 2
}
