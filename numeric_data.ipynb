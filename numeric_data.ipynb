{
 "cells": [
  {
   "cell_type": "code",
   "execution_count": 2,
   "id": "d5ad5003-5334-466c-898c-66ee930874ce",
   "metadata": {},
   "outputs": [],
   "source": [
    "import pandas_datareader as web\n",
    "import math\n",
    "import numpy as np\n",
    "import pandas as pd \n",
    "from sklearn.preprocessing import MinMaxScaler"
   ]
  },
  {
   "cell_type": "code",
   "execution_count": 3,
   "id": "a759c59d-609a-4c75-b47b-78325fdf8ca9",
   "metadata": {},
   "outputs": [],
   "source": [
    "start_date = '2015-01-01'\n",
    "end_date = '2020-01-01'\n",
    "\n",
    "\n",
    "BTC_df = web.DataReader('BTC-USD', data_source='yahoo', start= start_date, end= end_date)\n",
    "\n",
    "ETH_df = web.DataReader('ETH-USD', data_source='yahoo', start= start_date, end= end_date)\n",
    "\n",
    "XRP_df = web.DataReader('XRP-USD', data_source='yahoo', start= start_date, end= end_date)\n",
    "\n",
    "tmp_list = [BTC_df, ETH_df, XRP_df]"
   ]
  },
  {
   "cell_type": "code",
   "execution_count": 4,
   "id": "48130f12-e6fa-4450-b537-d807f905d64b",
   "metadata": {},
   "outputs": [],
   "source": [
    "data_list = []\n",
    "\n",
    "for each in tmp_list:\n",
    "\n",
    "    each['DeltaPrice'] = each['Close'] - each['Open']\n",
    "    \n",
    "    maxDeltaPrice = max([abs(each['DeltaPrice'].max()), abs(each['DeltaPrice'].min())])\n",
    "    \n",
    "    each['DeltaPriceScaled'] = each['DeltaPrice']/maxDeltaPrice\n",
    "    \n",
    "    \n",
    "    closePriceList = each['Close'].tolist()\n",
    "    \n",
    "    std_dev_14 = []\n",
    "    for i in range(0, len(closePriceList)):\n",
    "        if (0 <= i <= 13):\n",
    "            std_dev_14.append(None)\n",
    "            continue\n",
    "        temp_list = []\n",
    "        for j in range(i - 14, i):\n",
    "            temp_list.append(closePriceList[j])\n",
    "            \n",
    "        mean = np.mean(temp_list)\n",
    "        std_dev = np.std(temp_list)\n",
    "        obs_val = closePriceList[i]\n",
    "        z = (obs_val - mean)/std_dev\n",
    "        \n",
    "        std_dev_14.append(z)\n",
    "            \n",
    "    each['Zscore'] = std_dev_14 \n",
    "    \n",
    "    \n",
    "    sma100 = []\n",
    "    for i in range(0, len(closePriceList)):\n",
    "        if (0 <= i <= 99):\n",
    "            sma100.append(None)\n",
    "            continue\n",
    "        temp_list = []\n",
    "        for j in range(i - 100, i):\n",
    "            temp_list.append(closePriceList[j])\n",
    "            \n",
    "        mean = np.mean(temp_list)\n",
    "        \n",
    "        sma100.append(mean)\n",
    "            \n",
    "    each['SMA100'] = sma100\n",
    "    \n",
    "    \n",
    "    sma200 = []\n",
    "    for i in range(0, len(closePriceList)):\n",
    "        if (0 <= i <= 199):\n",
    "            sma200.append(None)\n",
    "            continue\n",
    "        temp_list = []\n",
    "        for j in range(i - 200, i):\n",
    "            temp_list.append(closePriceList[j])\n",
    "            \n",
    "        mean = np.mean(temp_list)\n",
    "        \n",
    "        sma200.append(mean)\n",
    "            \n",
    "    each['SMA200'] = sma200\n",
    "    \n",
    "    \n",
    "    each['Date'] = each.index\n",
    "    \n",
    "    id_list = []\n",
    "    for i in range(0, len(each['Date'].tolist())):\n",
    "        id_list.append(i)\n",
    "    \n",
    "    each['id'] = id_list\n",
    "    each.set_index('id', drop=True, inplace=True)\n",
    "    \n",
    "    each = each.drop(columns=['Open', 'Close', 'DeltaPrice', 'High', 'Low', 'Adj Close'])\n",
    "    each = each.drop(range(0, 200))\n",
    "    \n",
    "    data_list.append(each)\n",
    "    "
   ]
  },
  {
   "cell_type": "code",
   "execution_count": 6,
   "id": "caffa7f0-ee31-4f8f-9430-6e1242eac83a",
   "metadata": {},
   "outputs": [],
   "source": [
    "BTC_full_df = data_list [0]\n",
    "\n",
    "BTC_full_df.to_csv('data\\\\time_series\\\\BTC\\\\' + start_date + '_' + end_date + '.csv')\n"
   ]
  },
  {
   "cell_type": "code",
   "execution_count": 7,
   "id": "03ef361d-5a81-4426-80e8-eb2449f6143f",
   "metadata": {},
   "outputs": [],
   "source": [
    "ETH_full_df = data_list [1]\n",
    "\n",
    "ETH_full_df.to_csv('data\\\\time_series\\\\ETH\\\\' + start_date + '_' + end_date + '.csv')"
   ]
  },
  {
   "cell_type": "code",
   "execution_count": 8,
   "id": "bf225e63",
   "metadata": {},
   "outputs": [],
   "source": [
    "XRP_full_df = data_list [2]\n",
    "\n",
    "XRP_full_df.to_csv('data\\\\time_series\\\\XRP\\\\' + start_date + '_' + end_date + '.csv')"
   ]
  }
 ],
 "metadata": {
  "kernelspec": {
   "display_name": "Python 3 (ipykernel)",
   "language": "python",
   "name": "python3"
  },
  "language_info": {
   "codemirror_mode": {
    "name": "ipython",
    "version": 3
   },
   "file_extension": ".py",
   "mimetype": "text/x-python",
   "name": "python",
   "nbconvert_exporter": "python",
   "pygments_lexer": "ipython3",
   "version": "3.8.11"
  }
 },
 "nbformat": 4,
 "nbformat_minor": 5
}
